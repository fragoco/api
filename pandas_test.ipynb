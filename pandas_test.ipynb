{
 "cells": [
  {
   "cell_type": "code",
   "execution_count": 2,
   "metadata": {},
   "outputs": [],
   "source": [
    "import pandas as pd\n",
    "from pathlib import Path"
   ]
  },
  {
   "cell_type": "code",
   "execution_count": 3,
   "metadata": {},
   "outputs": [
    {
     "name": "stderr",
     "output_type": "stream",
     "text": [
      "C:\\Users\\Panchi\\AppData\\Local\\Temp\\ipykernel_11720\\386471310.py:2: DtypeWarning: Columns (10,12) have mixed types. Specify dtype option on import or set low_memory=False.\n",
      "  sales_df = pd.read_csv(sales_path)\n"
     ]
    }
   ],
   "source": [
    "sales_path = Path(\"data\\\\sales\\\\sales.csv\")\n",
    "sales_df = pd.read_csv(sales_path)"
   ]
  },
  {
   "cell_type": "code",
   "execution_count": 4,
   "metadata": {},
   "outputs": [],
   "source": [
    "product_path = Path(\"data\\\\product_hierarchy.csv\")\n",
    "prod_df = pd.read_csv(product_path)"
   ]
  },
  {
   "cell_type": "code",
   "execution_count": 5,
   "metadata": {},
   "outputs": [],
   "source": [
    "sales_df[\"date\"] = pd.to_datetime(sales_df[\"date\"], format=\"%Y-%m-%d\")"
   ]
  },
  {
   "cell_type": "code",
   "execution_count": 6,
   "metadata": {},
   "outputs": [],
   "source": [
    "date_range = pd.date_range(start=pd.to_datetime(\"2017-01-02\"), end=pd.to_datetime(\"2017-05-28\"))"
   ]
  },
  {
   "cell_type": "code",
   "execution_count": 7,
   "metadata": {},
   "outputs": [
    {
     "data": {
      "text/plain": [
       "0            True\n",
       "1            True\n",
       "2            True\n",
       "3            True\n",
       "4            True\n",
       "            ...  \n",
       "19454833    False\n",
       "19454834    False\n",
       "19454835    False\n",
       "19454836    False\n",
       "19454837    False\n",
       "Name: date, Length: 19454838, dtype: bool"
      ]
     },
     "execution_count": 7,
     "metadata": {},
     "output_type": "execute_result"
    }
   ],
   "source": [
    "sales_df[\"date\"].isin(date_range)"
   ]
  },
  {
   "cell_type": "code",
   "execution_count": 8,
   "metadata": {},
   "outputs": [],
   "source": [
    "date_range_filt = sales_df[\"date\"].isin(date_range)\n",
    "\n",
    "hierarchy_filt = prod_df[\"hierarchy1_id\"] == \"H01\"\n",
    "prod_hierarchy_filt = prod_df.loc[hierarchy_filt][\"product_id\"]\n",
    "prod_filt = sales_df[\"product_id\"].isin(prod_hierarchy_filt)\n",
    "\n",
    "prodsales_filt = (date_range_filt & prod_filt)"
   ]
  },
  {
   "cell_type": "code",
   "execution_count": 9,
   "metadata": {},
   "outputs": [
    {
     "data": {
      "text/plain": [
       "{'sales': 106111.0, 'revenue': 1118186.9899999995}"
      ]
     },
     "execution_count": 9,
     "metadata": {},
     "output_type": "execute_result"
    }
   ],
   "source": [
    "sales_df.loc[prodsales_filt].agg({\"sales\":\"sum\", \"revenue\":\"sum\"}).to_dict()"
   ]
  },
  {
   "cell_type": "markdown",
   "metadata": {},
   "source": [
    "---"
   ]
  },
  {
   "cell_type": "code",
   "execution_count": 10,
   "metadata": {},
   "outputs": [],
   "source": [
    "prodid = \"P0001\""
   ]
  },
  {
   "cell_type": "code",
   "execution_count": 32,
   "metadata": {},
   "outputs": [],
   "source": [
    "sales_prodid = sales_df[\"product_id\"] == prodid\n",
    "prod_prodid = prod_df[\"product_id\"]==prodid"
   ]
  },
  {
   "cell_type": "code",
   "execution_count": 35,
   "metadata": {},
   "outputs": [],
   "source": [
    "prod_vol = prod_df.loc[prod_prodid][\"product_length\"]*prod_df.loc[prod_prodid][\"product_depth\"]*prod_df.loc[prod_prodid][\"product_width\"]"
   ]
  },
  {
   "cell_type": "code",
   "execution_count": 36,
   "metadata": {},
   "outputs": [
    {
     "data": {
      "text/html": [
       "<div>\n",
       "<style scoped>\n",
       "    .dataframe tbody tr th:only-of-type {\n",
       "        vertical-align: middle;\n",
       "    }\n",
       "\n",
       "    .dataframe tbody tr th {\n",
       "        vertical-align: top;\n",
       "    }\n",
       "\n",
       "    .dataframe thead th {\n",
       "        text-align: right;\n",
       "    }\n",
       "</style>\n",
       "<table border=\"1\" class=\"dataframe\">\n",
       "  <thead>\n",
       "    <tr style=\"text-align: right;\">\n",
       "      <th></th>\n",
       "      <th>sales</th>\n",
       "      <th>stock</th>\n",
       "    </tr>\n",
       "  </thead>\n",
       "  <tbody>\n",
       "    <tr>\n",
       "      <th>0</th>\n",
       "      <td>0.0</td>\n",
       "      <td>8.0</td>\n",
       "    </tr>\n",
       "    <tr>\n",
       "      <th>1</th>\n",
       "      <td>1.0</td>\n",
       "      <td>0.0</td>\n",
       "    </tr>\n",
       "    <tr>\n",
       "      <th>2</th>\n",
       "      <td>2.0</td>\n",
       "      <td>0.0</td>\n",
       "    </tr>\n",
       "    <tr>\n",
       "      <th>3</th>\n",
       "      <td>0.0</td>\n",
       "      <td>6.0</td>\n",
       "    </tr>\n",
       "    <tr>\n",
       "      <th>4</th>\n",
       "      <td>0.0</td>\n",
       "      <td>1.0</td>\n",
       "    </tr>\n",
       "    <tr>\n",
       "      <th>...</th>\n",
       "      <td>...</td>\n",
       "      <td>...</td>\n",
       "    </tr>\n",
       "    <tr>\n",
       "      <th>19435056</th>\n",
       "      <td>NaN</td>\n",
       "      <td>NaN</td>\n",
       "    </tr>\n",
       "    <tr>\n",
       "      <th>19435057</th>\n",
       "      <td>NaN</td>\n",
       "      <td>NaN</td>\n",
       "    </tr>\n",
       "    <tr>\n",
       "      <th>19435058</th>\n",
       "      <td>NaN</td>\n",
       "      <td>NaN</td>\n",
       "    </tr>\n",
       "    <tr>\n",
       "      <th>19435059</th>\n",
       "      <td>NaN</td>\n",
       "      <td>NaN</td>\n",
       "    </tr>\n",
       "    <tr>\n",
       "      <th>19435060</th>\n",
       "      <td>NaN</td>\n",
       "      <td>NaN</td>\n",
       "    </tr>\n",
       "  </tbody>\n",
       "</table>\n",
       "<p>23965 rows × 2 columns</p>\n",
       "</div>"
      ],
      "text/plain": [
       "          sales  stock\n",
       "0           0.0    8.0\n",
       "1           1.0    0.0\n",
       "2           2.0    0.0\n",
       "3           0.0    6.0\n",
       "4           0.0    1.0\n",
       "...         ...    ...\n",
       "19435056    NaN    NaN\n",
       "19435057    NaN    NaN\n",
       "19435058    NaN    NaN\n",
       "19435059    NaN    NaN\n",
       "19435060    NaN    NaN\n",
       "\n",
       "[23965 rows x 2 columns]"
      ]
     },
     "execution_count": 36,
     "metadata": {},
     "output_type": "execute_result"
    }
   ],
   "source": [
    "sales_df.loc[sales_prodid][[\"sales\", \"stock\"]]"
   ]
  },
  {
   "cell_type": "code",
   "execution_count": 113,
   "metadata": {},
   "outputs": [],
   "source": [
    "sales_stock = sales_df.loc[(date_range_filt & sales_prodid)].agg({\"sales\":\"sum\", \"stock\":\"sum\"})"
   ]
  },
  {
   "cell_type": "code",
   "execution_count": 111,
   "metadata": {},
   "outputs": [
    {
     "data": {
      "text/plain": [
       "{'Total sales volume': 986040.0, 'Total stock volume': 71784900.0}"
      ]
     },
     "execution_count": 111,
     "metadata": {},
     "output_type": "execute_result"
    }
   ],
   "source": [
    "{\"Total sales volume\":prod_vol[1]*sales_stock[0],\"Total stock volume\":prod_vol[1]*sales_stock[1:2][0]}"
   ]
  }
 ],
 "metadata": {
  "interpreter": {
   "hash": "36b69fcd54973ea063616079e21fd76ef9ca94213a447878e6c4593cd7dc81df"
  },
  "kernelspec": {
   "display_name": "Python 3.10.1 ('venv': venv)",
   "language": "python",
   "name": "python3"
  },
  "language_info": {
   "codemirror_mode": {
    "name": "ipython",
    "version": 3
   },
   "file_extension": ".py",
   "mimetype": "text/x-python",
   "name": "python",
   "nbconvert_exporter": "python",
   "pygments_lexer": "ipython3",
   "version": "3.10.1"
  },
  "orig_nbformat": 4
 },
 "nbformat": 4,
 "nbformat_minor": 2
}
