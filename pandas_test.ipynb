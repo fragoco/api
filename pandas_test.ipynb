{
 "cells": [
  {
   "cell_type": "code",
   "execution_count": 22,
   "metadata": {},
   "outputs": [],
   "source": [
    "import pandas as pd\n",
    "from pathlib import Path"
   ]
  },
  {
   "cell_type": "code",
   "execution_count": 23,
   "metadata": {},
   "outputs": [
    {
     "name": "stderr",
     "output_type": "stream",
     "text": [
      "C:\\Users\\Panchi\\AppData\\Local\\Temp\\ipykernel_13124\\386471310.py:2: DtypeWarning: Columns (10,12) have mixed types. Specify dtype option on import or set low_memory=False.\n",
      "  sales_df = pd.read_csv(sales_path)\n"
     ]
    }
   ],
   "source": [
    "sales_path = Path(\"data\\\\sales\\\\sales.csv\")\n",
    "sales_df = pd.read_csv(sales_path)"
   ]
  },
  {
   "cell_type": "code",
   "execution_count": 24,
   "metadata": {},
   "outputs": [],
   "source": [
    "product_path = Path(\"data\\\\product_hierarchy.csv\")\n",
    "prod_df = pd.read_csv(product_path)"
   ]
  },
  {
   "cell_type": "code",
   "execution_count": 42,
   "metadata": {},
   "outputs": [],
   "source": [
    "sales_df[\"date\"] = pd.to_datetime(sales_df[\"date\"], format=\"%Y-%m-%d\")"
   ]
  },
  {
   "cell_type": "code",
   "execution_count": 44,
   "metadata": {},
   "outputs": [],
   "source": [
    "date_range = pd.date_range(start=pd.to_datetime(\"2017-01-02\"), end=pd.to_datetime(\"2017-05-28\"))"
   ]
  },
  {
   "cell_type": "code",
   "execution_count": 46,
   "metadata": {},
   "outputs": [
    {
     "data": {
      "text/plain": [
       "0            True\n",
       "1            True\n",
       "2            True\n",
       "3            True\n",
       "4            True\n",
       "            ...  \n",
       "19454833    False\n",
       "19454834    False\n",
       "19454835    False\n",
       "19454836    False\n",
       "19454837    False\n",
       "Name: date, Length: 19454838, dtype: bool"
      ]
     },
     "execution_count": 46,
     "metadata": {},
     "output_type": "execute_result"
    }
   ],
   "source": [
    "sales_df[\"date\"].isin(date_range)"
   ]
  },
  {
   "cell_type": "code",
   "execution_count": 47,
   "metadata": {},
   "outputs": [],
   "source": [
    "date_range_filt = sales_df[\"date\"].isin(date_range)\n",
    "\n",
    "hierarchy_filt = prod_df[\"hierarchy1_id\"] == \"H01\"\n",
    "prod_hierarchy_filt = prod_df.loc[hierarchy_filt][\"product_id\"]\n",
    "prod_filt = sales_df[\"product_id\"].isin(prod_hierarchy_filt)\n",
    "\n",
    "prodsales_filt = (date_range_filt & prod_filt)"
   ]
  },
  {
   "cell_type": "code",
   "execution_count": 48,
   "metadata": {},
   "outputs": [
    {
     "data": {
      "text/plain": [
       "{'sales': 106111.0, 'revenue': 1118186.9899999995}"
      ]
     },
     "execution_count": 48,
     "metadata": {},
     "output_type": "execute_result"
    }
   ],
   "source": [
    "sales_df.loc[prodsales_filt].agg({\"sales\":\"sum\", \"revenue\":\"sum\"}).to_dict()"
   ]
  },
  {
   "cell_type": "code",
   "execution_count": null,
   "metadata": {},
   "outputs": [],
   "source": []
  }
 ],
 "metadata": {
  "interpreter": {
   "hash": "36b69fcd54973ea063616079e21fd76ef9ca94213a447878e6c4593cd7dc81df"
  },
  "kernelspec": {
   "display_name": "Python 3.10.1 ('venv': venv)",
   "language": "python",
   "name": "python3"
  },
  "language_info": {
   "codemirror_mode": {
    "name": "ipython",
    "version": 3
   },
   "file_extension": ".py",
   "mimetype": "text/x-python",
   "name": "python",
   "nbconvert_exporter": "python",
   "pygments_lexer": "ipython3",
   "version": "3.10.1"
  },
  "orig_nbformat": 4
 },
 "nbformat": 4,
 "nbformat_minor": 2
}
