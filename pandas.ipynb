{
 "cells": [
  {
   "cell_type": "code",
   "execution_count": 1,
   "metadata": {},
   "outputs": [],
   "source": [
    "import pandas as pd\n",
    "from pathlib import Path"
   ]
  },
  {
   "cell_type": "code",
   "execution_count": 121,
   "metadata": {},
   "outputs": [],
   "source": [
    "# user input\n",
    "hierarchy_user_input = \"H01\"\n",
    "start_date = \"2017-01-01\"\n",
    "end_date = \"2017-02-28\""
   ]
  },
  {
   "cell_type": "code",
   "execution_count": 35,
   "metadata": {},
   "outputs": [],
   "source": [
    "sales_path = \"data\\\\sales\\\\sales.csv\"\n",
    "prod_hier_path = \"data\\\\product_hierarchy.csv\"\n",
    "store_cities_path = \"data\\\\store_cities.csv\""
   ]
  },
  {
   "cell_type": "code",
   "execution_count": 80,
   "metadata": {},
   "outputs": [
    {
     "name": "stderr",
     "output_type": "stream",
     "text": [
      "C:\\Users\\Panchi\\AppData\\Local\\Temp\\ipykernel_12668\\3165269735.py:3: DtypeWarning: Columns (10,12) have mixed types. Specify dtype option on import or set low_memory=False.\n",
      "  sales_df = pd.read_csv(sales_path)\n"
     ]
    }
   ],
   "source": [
    "# d_parser = lambda x: pd.datetime.strptime(x, \"%Y-%m-%d\")\n",
    "# sales_df = pd.read_csv(sales_path, parse_dates=[\"date\"], date_parser=d_parser)\n",
    "sales_df = pd.read_csv(sales_path)\n",
    "prod_hier_df = pd.read_csv(prod_hier_path)\n",
    "store_cities_df = pd.read_csv(store_cities_path)"
   ]
  },
  {
   "cell_type": "code",
   "execution_count": 82,
   "metadata": {},
   "outputs": [],
   "source": [
    "sales_df[\"date\"] = pd.to_datetime(sales_df[\"date\"], format=\"%Y-%m-%d\")"
   ]
  },
  {
   "cell_type": "code",
   "execution_count": 95,
   "metadata": {},
   "outputs": [
    {
     "data": {
      "text/plain": [
       "0          2017-01-02\n",
       "1          2017-01-02\n",
       "2          2017-01-02\n",
       "3          2017-01-02\n",
       "4          2017-01-02\n",
       "              ...    \n",
       "19454833   2019-12-29\n",
       "19454834   2019-12-29\n",
       "19454835   2019-12-29\n",
       "19454836   2019-12-29\n",
       "19454837   2019-12-29\n",
       "Name: date, Length: 19454838, dtype: datetime64[ns]"
      ]
     },
     "execution_count": 95,
     "metadata": {},
     "output_type": "execute_result"
    }
   ],
   "source": [
    "sales_df[\"date\"]"
   ]
  },
  {
   "cell_type": "markdown",
   "metadata": {},
   "source": [
    "- Total Sales quantity and revenue for Specific product **hierarchy1_id** and specified **date** range. Returns a single row.\n",
    "  - input\n",
    "    - hierarchy1_id (product_hierarchy.csv) -> product_id (sales.csv)\n",
    "    - date (sales.csv)\n",
    "  - output\n",
    "    - sales (sales.csv)\n",
    "    - revenue (sales.csv)"
   ]
  },
  {
   "cell_type": "code",
   "execution_count": 23,
   "metadata": {},
   "outputs": [],
   "source": [
    "hier_grp = prod_hier_df.groupby([\"hierarchy1_id\"])"
   ]
  },
  {
   "cell_type": "code",
   "execution_count": 37,
   "metadata": {},
   "outputs": [],
   "source": [
    "# hier_grp.get_group(\"H00\")\n",
    "# date_range = pd.date_range(start=\"2018-01-01\", end=\"2018-06-31\")"
   ]
  },
  {
   "cell_type": "code",
   "execution_count": 122,
   "metadata": {},
   "outputs": [
    {
     "data": {
      "text/plain": [
       "1      P0001\n",
       "9      P0010\n",
       "11     P0012\n",
       "12     P0013\n",
       "21     P0022\n",
       "       ...  \n",
       "689    P0738\n",
       "692    P0741\n",
       "693    P0742\n",
       "697    P0747\n",
       "698    P0748\n",
       "Name: product_id, Length: 181, dtype: object"
      ]
     },
     "execution_count": 122,
     "metadata": {},
     "output_type": "execute_result"
    }
   ],
   "source": [
    "# Group\n",
    "# prod_hier_df.groupby([\"hierarchy1_id\"]).get_group(hierarchy_user_input)[\"product_id\"]\n",
    "\n",
    "# Filter\n",
    "hier_filt = prod_hier_df[\"hierarchy1_id\"] == hierarchy_user_input\n",
    "prod_hier_filt = prod_hier_df.loc[hier_filt][\"product_id\"]\n",
    "prod_hier_df.loc[hier_filt][\"product_id\"]"
   ]
  },
  {
   "cell_type": "code",
   "execution_count": 42,
   "metadata": {},
   "outputs": [
    {
     "data": {
      "text/plain": [
       "DatetimeIndex(['2018-01-01', '2018-01-02', '2018-01-03', '2018-01-04',\n",
       "               '2018-01-05', '2018-01-06', '2018-01-07', '2018-01-08',\n",
       "               '2018-01-09', '2018-01-10',\n",
       "               ...\n",
       "               '2018-06-21', '2018-06-22', '2018-06-23', '2018-06-24',\n",
       "               '2018-06-25', '2018-06-26', '2018-06-27', '2018-06-28',\n",
       "               '2018-06-29', '2018-06-30'],\n",
       "              dtype='datetime64[ns]', length=181, freq='D')"
      ]
     },
     "execution_count": 42,
     "metadata": {},
     "output_type": "execute_result"
    }
   ],
   "source": [
    "date_range = pd.date_range(start=\"2018-01-01\", end=\"2018-06-30\")\n",
    "pd.date_range(start=\"2018-01-01\", end=\"2018-06-30\")"
   ]
  },
  {
   "cell_type": "code",
   "execution_count": 126,
   "metadata": {},
   "outputs": [],
   "source": [
    "date_range_filt = (sales_df[\"date\"] >= pd.to_datetime(start_date)) & (sales_df[\"date\"] <= pd.to_datetime(end_date))\n",
    "sales_prod_filt = sales_df[\"product_id\"].isin(prod_hier_filt)\n",
    "sales_filt = (date_range_filt & sales_prod_filt)"
   ]
  },
  {
   "cell_type": "code",
   "execution_count": 127,
   "metadata": {},
   "outputs": [
    {
     "data": {
      "text/plain": [
       "sales       50073.00\n",
       "revenue    585702.71\n",
       "dtype: float64"
      ]
     },
     "execution_count": 127,
     "metadata": {},
     "output_type": "execute_result"
    }
   ],
   "source": [
    "# filter with date range\n",
    "sales_df.loc[sales_filt].agg({\"sales\":\"sum\", \"revenue\":\"sum\"})"
   ]
  }
 ],
 "metadata": {
  "interpreter": {
   "hash": "36b69fcd54973ea063616079e21fd76ef9ca94213a447878e6c4593cd7dc81df"
  },
  "kernelspec": {
   "display_name": "Python 3.10.1 ('venv': venv)",
   "language": "python",
   "name": "python3"
  },
  "language_info": {
   "codemirror_mode": {
    "name": "ipython",
    "version": 3
   },
   "file_extension": ".py",
   "mimetype": "text/x-python",
   "name": "python",
   "nbconvert_exporter": "python",
   "pygments_lexer": "ipython3",
   "version": "3.10.1"
  },
  "orig_nbformat": 4
 },
 "nbformat": 4,
 "nbformat_minor": 2
}
