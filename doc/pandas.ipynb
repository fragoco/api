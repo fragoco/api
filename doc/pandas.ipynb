{
 "cells": [
  {
   "cell_type": "code",
   "execution_count": 3,
   "metadata": {},
   "outputs": [],
   "source": [
    "import pandas as pd"
   ]
  },
  {
   "cell_type": "code",
   "execution_count": 3,
   "metadata": {},
   "outputs": [],
   "source": [
    "# simulated user input (GET request)\n",
    "hierarchy_user_input = \"H00\"\n",
    "start_date = \"2017-03-01\"\n",
    "end_date = \"2017-05-01\"\n",
    "city_id = \"C014\""
   ]
  },
  {
   "cell_type": "code",
   "execution_count": 1,
   "metadata": {},
   "outputs": [],
   "source": [
    "sales_path = \".\\\\..\\\\data\\\\sales\\\\sales.csv\"\n",
    "prod_hier_path = \".\\\\..\\\\data\\\\product_hierarchy.csv\"\n",
    "store_cities_path = \".\\\\..\\\\data\\\\store_cities.csv\""
   ]
  },
  {
   "cell_type": "code",
   "execution_count": 4,
   "metadata": {},
   "outputs": [
    {
     "name": "stderr",
     "output_type": "stream",
     "text": [
      "C:\\Users\\Panchi\\AppData\\Local\\Temp\\ipykernel_7272\\3165269735.py:3: DtypeWarning: Columns (10,12) have mixed types. Specify dtype option on import or set low_memory=False.\n",
      "  sales_df = pd.read_csv(sales_path)\n"
     ]
    }
   ],
   "source": [
    "# d_parser = lambda x: pd.datetime.strptime(x, \"%Y-%m-%d\")\n",
    "# sales_df = pd.read_csv(sales_path, parse_dates=[\"date\"], date_parser=d_parser)\n",
    "sales_df = pd.read_csv(sales_path)\n",
    "prod_hier_df = pd.read_csv(prod_hier_path)\n",
    "store_cities_df = pd.read_csv(store_cities_path)"
   ]
  },
  {
   "cell_type": "code",
   "execution_count": 6,
   "metadata": {},
   "outputs": [
    {
     "data": {
      "text/plain": [
       "0          2017-01-02\n",
       "1          2017-01-02\n",
       "2          2017-01-02\n",
       "3          2017-01-02\n",
       "4          2017-01-02\n",
       "              ...    \n",
       "19454833   2019-12-29\n",
       "19454834   2019-12-29\n",
       "19454835   2019-12-29\n",
       "19454836   2019-12-29\n",
       "19454837   2019-12-29\n",
       "Name: date, Length: 19454838, dtype: datetime64[ns]"
      ]
     },
     "execution_count": 6,
     "metadata": {},
     "output_type": "execute_result"
    }
   ],
   "source": [
    "sales_df[\"date\"] = pd.to_datetime(sales_df[\"date\"], format=\"%Y-%m-%d\")\n",
    "\n",
    "# visualization\n",
    "sales_df[\"date\"]"
   ]
  },
  {
   "cell_type": "code",
   "execution_count": null,
   "metadata": {},
   "outputs": [],
   "source": []
  },
  {
   "cell_type": "markdown",
   "metadata": {},
   "source": [
    "- Total Sales quantity and revenue for Specific product **hierarchy1_id** and specified **date** range. Returns a single row.\n",
    "  - input\n",
    "    - hierarchy1_id (product_hierarchy.csv) -> product_id (sales.csv)\n",
    "    - date (sales.csv)\n",
    "  - output\n",
    "    - sales (sales.csv)\n",
    "    - revenue (sales.csv)"
   ]
  },
  {
   "cell_type": "code",
   "execution_count": 40,
   "metadata": {},
   "outputs": [
    {
     "data": {
      "text/plain": [
       "0      False\n",
       "1       True\n",
       "2      False\n",
       "3      False\n",
       "4      False\n",
       "       ...  \n",
       "694    False\n",
       "695    False\n",
       "696    False\n",
       "697     True\n",
       "698     True\n",
       "Name: hierarchy1_id, Length: 699, dtype: bool"
      ]
     },
     "execution_count": 40,
     "metadata": {},
     "output_type": "execute_result"
    }
   ],
   "source": [
    "prod_hier_df[\"hierarchy1_id\"] == \"H01\""
   ]
  },
  {
   "cell_type": "code",
   "execution_count": 7,
   "metadata": {},
   "outputs": [
    {
     "data": {
      "text/plain": [
       "0      P0000\n",
       "7      P0008\n",
       "8      P0009\n",
       "14     P0015\n",
       "15     P0016\n",
       "       ...  \n",
       "672    P0719\n",
       "676    P0724\n",
       "677    P0725\n",
       "678    P0726\n",
       "685    P0733\n",
       "Name: product_id, Length: 215, dtype: object"
      ]
     },
     "execution_count": 7,
     "metadata": {},
     "output_type": "execute_result"
    }
   ],
   "source": [
    "# Group\n",
    "# hier_grp = prod_hier_df.groupby([\"hierarchy1_id\"])\n",
    "# hier_grp.get_group(\"H00\")\n",
    "# prod_hier_df.groupby([\"hierarchy1_id\"]).get_group(hierarchy_user_input)[\"product_id\"]\n",
    "\n",
    "# hierarchy_id filter applied to product_id\n",
    "hier_filt = prod_hier_df[\"hierarchy1_id\"] == hierarchy_user_input\n",
    "prod_hier_filt = prod_hier_df.loc[hier_filt][\"product_id\"]\n",
    "\n",
    "# visualization\n",
    "prod_hier_df.loc[hier_filt][\"product_id\"]"
   ]
  },
  {
   "cell_type": "code",
   "execution_count": 8,
   "metadata": {},
   "outputs": [
    {
     "data": {
      "text/plain": [
       "DatetimeIndex(['2017-03-01', '2017-03-02', '2017-03-03', '2017-03-04',\n",
       "               '2017-03-05', '2017-03-06', '2017-03-07', '2017-03-08',\n",
       "               '2017-03-09', '2017-03-10', '2017-03-11', '2017-03-12',\n",
       "               '2017-03-13', '2017-03-14', '2017-03-15', '2017-03-16',\n",
       "               '2017-03-17', '2017-03-18', '2017-03-19', '2017-03-20',\n",
       "               '2017-03-21', '2017-03-22', '2017-03-23', '2017-03-24',\n",
       "               '2017-03-25', '2017-03-26', '2017-03-27', '2017-03-28',\n",
       "               '2017-03-29', '2017-03-30', '2017-03-31', '2017-04-01',\n",
       "               '2017-04-02', '2017-04-03', '2017-04-04', '2017-04-05',\n",
       "               '2017-04-06', '2017-04-07', '2017-04-08', '2017-04-09',\n",
       "               '2017-04-10', '2017-04-11', '2017-04-12', '2017-04-13',\n",
       "               '2017-04-14', '2017-04-15', '2017-04-16', '2017-04-17',\n",
       "               '2017-04-18', '2017-04-19', '2017-04-20', '2017-04-21',\n",
       "               '2017-04-22', '2017-04-23', '2017-04-24', '2017-04-25',\n",
       "               '2017-04-26', '2017-04-27', '2017-04-28', '2017-04-29',\n",
       "               '2017-04-30', '2017-05-01'],\n",
       "              dtype='datetime64[ns]', freq='D')"
      ]
     },
     "execution_count": 8,
     "metadata": {},
     "output_type": "execute_result"
    }
   ],
   "source": [
    "# Date range from user\n",
    "date_range = pd.date_range(start=pd.to_datetime(start_date), end=pd.to_datetime(end_date))\n",
    "\n",
    "# visualization             \n",
    "pd.date_range(start=pd.to_datetime(start_date), end=pd.to_datetime(end_date))"
   ]
  },
  {
   "cell_type": "code",
   "execution_count": 9,
   "metadata": {},
   "outputs": [],
   "source": [
    "# Filters\n",
    "\n",
    "# date_range_filt = (sales_df[\"date\"] >= pd.to_datetime(start_date)) & (sales_df[\"date\"] <= pd.to_datetime(end_date))\n",
    "date_range_filt = sales_df[\"date\"].isin(date_range)\n",
    "sales_prod_filt = sales_df[\"product_id\"].isin(prod_hier_filt)\n",
    "prod_sales_filt = (date_range_filt & sales_prod_filt)"
   ]
  },
  {
   "cell_type": "code",
   "execution_count": 42,
   "metadata": {},
   "outputs": [
    {
     "data": {
      "text/plain": [
       "{'sales': 419802.192, 'revenue': 870283.091}"
      ]
     },
     "execution_count": 42,
     "metadata": {},
     "output_type": "execute_result"
    }
   ],
   "source": [
    "# filtered data\n",
    "# sales_df.loc[prod_sales_filt].agg({\"sales\":\"sum\", \"revenue\":\"sum\"})\n",
    "sales_df.loc[date_range_filt & sales_prod_filt].agg({\"sales\":\"sum\", \"revenue\":\"sum\"}).to_dict()"
   ]
  },
  {
   "cell_type": "markdown",
   "metadata": {},
   "source": [
    "- input\n",
    "  - hierarchy_user_input = \"H01\"\n",
    "  - start_date = \"2017-01-01\"\n",
    "  - end_date = \"2017-02-28\"\n",
    "- output\n",
    "  - sales       50073.00\n",
    "  - revenue    585702.71\n",
    "\n",
    "---\n"
   ]
  },
  {
   "cell_type": "markdown",
   "metadata": {},
   "source": [
    "- Total Sales quantity and revenue for Specific **city id** and specified **date** range. Returns a single row.\n",
    "  - input\n",
    "    - city_id (store_cities.csv)\n",
    "    - date (sales.csv)\n",
    "  - output\n",
    "    - sales (sales.csv)\n",
    "    - revenue (sales.csv)"
   ]
  },
  {
   "cell_type": "code",
   "execution_count": 11,
   "metadata": {},
   "outputs": [
    {
     "data": {
      "text/plain": [
       "6      S0095\n",
       "7      S0055\n",
       "8      S0099\n",
       "15     S0059\n",
       "21     S0097\n",
       "26     S0007\n",
       "27     S0107\n",
       "30     S0052\n",
       "37     S0016\n",
       "49     S0089\n",
       "56     S0120\n",
       "62     S0080\n",
       "63     S0014\n",
       "66     S0073\n",
       "71     S0020\n",
       "75     S0085\n",
       "84     S0072\n",
       "91     S0067\n",
       "93     S0076\n",
       "98     S0062\n",
       "100    S0071\n",
       "107    S0026\n",
       "109    S0015\n",
       "112    S0126\n",
       "116    S0003\n",
       "118    S0077\n",
       "120    S0010\n",
       "122    S0022\n",
       "124    S0058\n",
       "126    S0143\n",
       "127    S0039\n",
       "136    S0050\n",
       "Name: store_id, dtype: object"
      ]
     },
     "execution_count": 11,
     "metadata": {},
     "output_type": "execute_result"
    }
   ],
   "source": [
    "# city_id filter applied to store_id\n",
    "city_filt = store_cities_df[\"city_id\"] == city_id\n",
    "store_filt = store_cities_df.loc[city_filt][\"store_id\"]\n",
    "\n",
    "# visualization\n",
    "store_cities_df.loc[city_filt][\"store_id\"]"
   ]
  },
  {
   "cell_type": "code",
   "execution_count": 12,
   "metadata": {},
   "outputs": [],
   "source": [
    "# Filters\n",
    "date_range_filt = sales_df[\"date\"].isin(date_range)\n",
    "store_filt = sales_df[\"store_id\"].isin(store_filt)\n",
    "# store_sales_filt = (date_range_filt & store_cities_df)\n"
   ]
  },
  {
   "cell_type": "code",
   "execution_count": 38,
   "metadata": {},
   "outputs": [
    {
     "data": {
      "text/plain": [
       "sales      195194.671\n",
       "revenue    637961.691\n",
       "dtype: float64"
      ]
     },
     "execution_count": 38,
     "metadata": {},
     "output_type": "execute_result"
    }
   ],
   "source": [
    "sales_df.loc[(date_range_filt & store_filt)].agg({\"sales\":\"sum\", \"revenue\":\"sum\"})"
   ]
  },
  {
   "cell_type": "markdown",
   "metadata": {},
   "source": [
    "- input\n",
    "  - start_date = \"2017-01-01\"\n",
    "  - end_date = \"2017-02-01\"\n",
    "  - city_id = \"C014\"\n",
    "- output\n",
    "  - sales       84608.205\n",
    "  - revenue    383154.190\n",
    "\n",
    "  ---\n",
    "  "
   ]
  },
  {
   "cell_type": "markdown",
   "metadata": {},
   "source": [
    "Total volume (using provided **product dimensions** multiplied by **quantity**) of a specific **product** for specified **date** range. Returns a single row.\n",
    "\n",
    "- input\n",
    "  - product_id\n",
    "  - date\n",
    "- process\n",
    "  - product_length\n",
    "  - product_depth\n",
    "  - product_width\n",
    "  - sales (quantity?)\n",
    "- output\n",
    "  - volume\n"
   ]
  },
  {
   "cell_type": "code",
   "execution_count": 14,
   "metadata": {},
   "outputs": [],
   "source": [
    "int_filt = sales_df[\"sales\"].apply(float.is_integer)"
   ]
  },
  {
   "cell_type": "code",
   "execution_count": 15,
   "metadata": {},
   "outputs": [
    {
     "data": {
      "text/plain": [
       "5335        0.530\n",
       "5336        1.414\n",
       "5469        2.290\n",
       "5470        2.580\n",
       "7270        1.695\n",
       "            ...  \n",
       "19454833      NaN\n",
       "19454834      NaN\n",
       "19454835      NaN\n",
       "19454836      NaN\n",
       "19454837      NaN\n",
       "Name: sales, Length: 1218907, dtype: float64"
      ]
     },
     "execution_count": 15,
     "metadata": {},
     "output_type": "execute_result"
    }
   ],
   "source": [
    "sales_df.loc[~int_filt, 'sales']"
   ]
  },
  {
   "cell_type": "code",
   "execution_count": 16,
   "metadata": {},
   "outputs": [
    {
     "data": {
      "text/plain": [
       "0            8.0\n",
       "1            0.0\n",
       "2            0.0\n",
       "3            6.0\n",
       "4            1.0\n",
       "            ... \n",
       "18264071    11.0\n",
       "18264072     4.0\n",
       "18264073     6.0\n",
       "18264074     2.0\n",
       "18264075    16.0\n",
       "Name: stock, Length: 18237738, dtype: float64"
      ]
     },
     "execution_count": 16,
     "metadata": {},
     "output_type": "execute_result"
    }
   ],
   "source": [
    "stock_filt = sales_df[\"stock\"].apply(float.is_integer)\n",
    "sales_df.loc[stock_filt, \"stock\"]"
   ]
  },
  {
   "cell_type": "code",
   "execution_count": 17,
   "metadata": {},
   "outputs": [
    {
     "data": {
      "text/plain": [
       "0           True\n",
       "1           True\n",
       "2           True\n",
       "3           True\n",
       "4           True\n",
       "            ... \n",
       "18264071    True\n",
       "18264072    True\n",
       "18264073    True\n",
       "18264074    True\n",
       "18264075    True\n",
       "Name: stock, Length: 18264076, dtype: bool"
      ]
     },
     "execution_count": 17,
     "metadata": {},
     "output_type": "execute_result"
    }
   ],
   "source": [
    "sales_df[\"stock\"].dropna().apply(float.is_integer)"
   ]
  },
  {
   "cell_type": "code",
   "execution_count": null,
   "metadata": {},
   "outputs": [],
   "source": [
    "# sales_df[\"stock\"].dropna().apply(float.is_integer)\n",
    "stock_filt2 = sales_df[\"stock\"].dropna().apply(float.is_integer)\n",
    "sales_df.loc[~stock_filt2, \"stock\"]"
   ]
  },
  {
   "cell_type": "code",
   "execution_count": 44,
   "metadata": {},
   "outputs": [
    {
     "data": {
      "text/plain": [
       "{0: 'C013', 1: 'C005', 2: 'C008', 3: 'C019', 4: 'C022'}"
      ]
     },
     "execution_count": 44,
     "metadata": {},
     "output_type": "execute_result"
    }
   ],
   "source": [
    "store_cities_df[\"city_id\"].head().to_dict()"
   ]
  },
  {
   "cell_type": "code",
   "execution_count": 45,
   "metadata": {},
   "outputs": [
    {
     "data": {
      "text/plain": [
       "'{\"0\":\"C013\",\"1\":\"C005\",\"2\":\"C008\",\"3\":\"C019\",\"4\":\"C022\"}'"
      ]
     },
     "execution_count": 45,
     "metadata": {},
     "output_type": "execute_result"
    }
   ],
   "source": [
    "store_cities_df[\"city_id\"].head().to_json()"
   ]
  }
 ],
 "metadata": {
  "interpreter": {
   "hash": "36b69fcd54973ea063616079e21fd76ef9ca94213a447878e6c4593cd7dc81df"
  },
  "kernelspec": {
   "display_name": "Python 3.10.1 ('venv': venv)",
   "language": "python",
   "name": "python3"
  },
  "language_info": {
   "codemirror_mode": {
    "name": "ipython",
    "version": 3
   },
   "file_extension": ".py",
   "mimetype": "text/x-python",
   "name": "python",
   "nbconvert_exporter": "python",
   "pygments_lexer": "ipython3",
   "version": "3.10.1"
  },
  "orig_nbformat": 4
 },
 "nbformat": 4,
 "nbformat_minor": 2
}
